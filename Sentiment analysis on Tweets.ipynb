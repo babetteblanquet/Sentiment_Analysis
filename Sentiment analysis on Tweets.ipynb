{
 "cells": [
  {
   "cell_type": "code",
   "execution_count": 1,
   "metadata": {},
   "outputs": [],
   "source": [
    "import streamlit as st\n",
    "import tweepy\n",
    "# from wordcloud import WordCloud\n",
    "import pandas as pd\n",
    "import numpy as np\n",
    "import re\n",
    "import matplotlib.pyplot as plt\n",
    "# Import API key\n",
    "from config import consumerKey\n",
    "from config import consumerSecret\n",
    "from config import accessToken\n",
    "from config import accessTokenSecret"
   ]
  },
  {
   "cell_type": "code",
   "execution_count": 2,
   "metadata": {},
   "outputs": [],
   "source": [
    "# Create the authentication object\n",
    "authenticate = tweepy.OAuthHandler(consumerKey, consumerSecret)"
   ]
  },
  {
   "cell_type": "code",
   "execution_count": 3,
   "metadata": {},
   "outputs": [],
   "source": [
    "# Set the access token and access token secret\n",
    "authenticate.set_access_token(accessToken, accessTokenSecret)"
   ]
  },
  {
   "cell_type": "code",
   "execution_count": 4,
   "metadata": {},
   "outputs": [
    {
     "data": {
      "text/plain": [
       "<tweepy.api.API at 0x24369ef7438>"
      ]
     },
     "execution_count": 4,
     "metadata": {},
     "output_type": "execute_result"
    }
   ],
   "source": [
    "# Creating the API object while passing in the auth information\n",
    "api = tweepy.API(authenticate, wait_on_rate_limit=True)\n",
    "api"
   ]
  },
  {
   "cell_type": "code",
   "execution_count": 64,
   "metadata": {},
   "outputs": [],
   "source": [
    "posts = api.search(\n",
    "    q=\"#rogerfederer -RT\", retweeted = \"False\", result_type='recent', count=100, lang=\"en\", tweet_mode=\"extended\")"
   ]
  },
  {
   "cell_type": "code",
   "execution_count": 73,
   "metadata": {},
   "outputs": [
    {
     "data": {
      "text/plain": [
       "'rogerfederer -RT'"
      ]
     },
     "execution_count": 73,
     "metadata": {},
     "output_type": "execute_result"
    }
   ],
   "source": [
    "text_input = \"rogerfederer\"\n",
    "tweet_handle = text_input+\" -RT\"\n",
    "tweet_handle"
   ]
  },
  {
   "cell_type": "code",
   "execution_count": 65,
   "metadata": {},
   "outputs": [
    {
     "data": {
      "text/html": [
       "<div>\n",
       "<style scoped>\n",
       "    .dataframe tbody tr th:only-of-type {\n",
       "        vertical-align: middle;\n",
       "    }\n",
       "\n",
       "    .dataframe tbody tr th {\n",
       "        vertical-align: top;\n",
       "    }\n",
       "\n",
       "    .dataframe thead th {\n",
       "        text-align: right;\n",
       "    }\n",
       "</style>\n",
       "<table border=\"1\" class=\"dataframe\">\n",
       "  <thead>\n",
       "    <tr style=\"text-align: right;\">\n",
       "      <th></th>\n",
       "      <th>Tweets</th>\n",
       "    </tr>\n",
       "  </thead>\n",
       "  <tbody>\n",
       "    <tr>\n",
       "      <th>0</th>\n",
       "      <td>‘What Federer, Nadal, and Djokovic are doing i...</td>\n",
       "    </tr>\n",
       "    <tr>\n",
       "      <th>1</th>\n",
       "      <td>“Have Him As A Tennis Reference”: Argentine Fo...</td>\n",
       "    </tr>\n",
       "    <tr>\n",
       "      <th>2</th>\n",
       "      <td>“Wasn't Very High In The Standings”: Andrey Ru...</td>\n",
       "    </tr>\n",
       "    <tr>\n",
       "      <th>3</th>\n",
       "      <td>Federer's comeback season...\\nhttps://t.co/Flk...</td>\n",
       "    </tr>\n",
       "    <tr>\n",
       "      <th>4</th>\n",
       "      <td>Can you guess the brand without Googling it? \\...</td>\n",
       "    </tr>\n",
       "  </tbody>\n",
       "</table>\n",
       "</div>"
      ],
      "text/plain": [
       "                                              Tweets\n",
       "0  ‘What Federer, Nadal, and Djokovic are doing i...\n",
       "1  “Have Him As A Tennis Reference”: Argentine Fo...\n",
       "2  “Wasn't Very High In The Standings”: Andrey Ru...\n",
       "3  Federer's comeback season...\\nhttps://t.co/Flk...\n",
       "4  Can you guess the brand without Googling it? \\..."
      ]
     },
     "execution_count": 65,
     "metadata": {},
     "output_type": "execute_result"
    }
   ],
   "source": [
    " df = pd.DataFrame( [tweet.full_text for tweet in posts], columns=['Tweets'])\n",
    "df.head()"
   ]
  },
  {
   "cell_type": "code",
   "execution_count": 66,
   "metadata": {},
   "outputs": [],
   "source": [
    "#Create a function to clean the tweets:\n",
    "def cleanTxt(text):\n",
    "    # Removing @mentions\n",
    "    text = re.sub('@[A-Za-z0–9]+', ' ', text)\n",
    "    # Removing '#' hash tag symbol\n",
    "    text = re.sub('#', '', text)\n",
    "     # Removing ': hash tag symbol\n",
    "    text = re.sub(':', '', text)\n",
    "    # Removing RT re-tweet\n",
    "    text = re.sub('RT[\\s]+', '', text)\n",
    "    # Removing hyperlink\n",
    "    text = re.sub('https?:\\/\\/\\S+', '', text)\n",
    "    \n",
    "    return text"
   ]
  },
  {
   "cell_type": "code",
   "execution_count": 67,
   "metadata": {},
   "outputs": [
    {
     "data": {
      "text/plain": [
       "0     ‘What Federer, Nadal, and Djokovic are doing i...\n",
       "1     “Have Him As A Tennis Reference” Argentine Foo...\n",
       "2     “Wasn't Very High In The Standings” Andrey Rub...\n",
       "3     Federer's comeback season...\\nhttps//t.co/Flka...\n",
       "4     Can you guess the brand without Googling it? \\...\n",
       "                            ...                        \n",
       "86    Big sis helping little bro. Aw! 😍😂🥰❤ rogerfede...\n",
       "87    Federer fans after knowing that Rafael Nadal h...\n",
       "88    I want to see a 21st title, Rog RogerFederer R...\n",
       "89    Hey Roger, we're about to be neighbors! 👑🎾 Her...\n",
       "90    RafaelNadal defeats NovakDjokovic to win Frenc...\n",
       "Name: Tweets, Length: 91, dtype: object"
      ]
     },
     "execution_count": 67,
     "metadata": {},
     "output_type": "execute_result"
    }
   ],
   "source": [
    "df[\"Tweets\"] = df[\"Tweets\"].apply(cleanTxt)\n",
    "df[\"Tweets\"]"
   ]
  },
  {
   "cell_type": "code",
   "execution_count": 68,
   "metadata": {},
   "outputs": [],
   "source": [
    "df= df.dropna()"
   ]
  },
  {
   "cell_type": "code",
   "execution_count": 69,
   "metadata": {},
   "outputs": [],
   "source": [
    "df= df.drop_duplicates()"
   ]
  },
  {
   "cell_type": "code",
   "execution_count": 70,
   "metadata": {},
   "outputs": [
    {
     "data": {
      "text/plain": [
       "Tweets    91\n",
       "dtype: int64"
      ]
     },
     "execution_count": 70,
     "metadata": {},
     "output_type": "execute_result"
    }
   ],
   "source": [
    "df.count()"
   ]
  },
  {
   "cell_type": "code",
   "execution_count": 71,
   "metadata": {},
   "outputs": [
    {
     "data": {
      "text/plain": [
       "0     ‘What Federer, Nadal, and Djokovic are doing i...\n",
       "1     “Have Him As A Tennis Reference” Argentine Foo...\n",
       "2     “Wasn't Very High In The Standings” Andrey Rub...\n",
       "3     Federer's comeback season...\\nhttps//t.co/Flka...\n",
       "4     Can you guess the brand without Googling it? \\...\n",
       "                            ...                        \n",
       "86    Big sis helping little bro. Aw! 😍😂🥰❤ rogerfede...\n",
       "87    Federer fans after knowing that Rafael Nadal h...\n",
       "88    I want to see a 21st title, Rog RogerFederer R...\n",
       "89    Hey Roger, we're about to be neighbors! 👑🎾 Her...\n",
       "90    RafaelNadal defeats NovakDjokovic to win Frenc...\n",
       "Name: Tweets, Length: 91, dtype: object"
      ]
     },
     "execution_count": 71,
     "metadata": {},
     "output_type": "execute_result"
    }
   ],
   "source": [
    "df['Tweets']"
   ]
  },
  {
   "cell_type": "code",
   "execution_count": 7,
   "metadata": {},
   "outputs": [],
   "source": [
    "##Get the independent features\n",
    "X = df[\"Tweets\"]"
   ]
  },
  {
   "cell_type": "code",
   "execution_count": 8,
   "metadata": {},
   "outputs": [
    {
     "data": {
      "text/plain": [
       "(100,)"
      ]
     },
     "execution_count": 8,
     "metadata": {},
     "output_type": "execute_result"
    }
   ],
   "source": [
    "X.shape"
   ]
  },
  {
   "cell_type": "code",
   "execution_count": 9,
   "metadata": {},
   "outputs": [],
   "source": [
    "messages = X.copy()"
   ]
  },
  {
   "cell_type": "code",
   "execution_count": 26,
   "metadata": {},
   "outputs": [
    {
     "data": {
      "text/html": [
       "<div>\n",
       "<style scoped>\n",
       "    .dataframe tbody tr th:only-of-type {\n",
       "        vertical-align: middle;\n",
       "    }\n",
       "\n",
       "    .dataframe tbody tr th {\n",
       "        vertical-align: top;\n",
       "    }\n",
       "\n",
       "    .dataframe thead th {\n",
       "        text-align: right;\n",
       "    }\n",
       "</style>\n",
       "<table border=\"1\" class=\"dataframe\">\n",
       "  <thead>\n",
       "    <tr style=\"text-align: right;\">\n",
       "      <th></th>\n",
       "      <th>Tweets</th>\n",
       "    </tr>\n",
       "  </thead>\n",
       "  <tbody>\n",
       "    <tr>\n",
       "      <th>0</th>\n",
       "      <td>73_2  if you miss ...</td>\n",
       "    </tr>\n",
       "    <tr>\n",
       "      <th>1</th>\n",
       "      <td>73_2  if you miss ...</td>\n",
       "    </tr>\n",
       "    <tr>\n",
       "      <th>2</th>\n",
       "      <td>Pretty high, in exhibition matches</td>\n",
       "    </tr>\n",
       "    <tr>\n",
       "      <th>3</th>\n",
       "      <td>Only a fool would write off the Maestro. \\n\\...</td>\n",
       "    </tr>\n",
       "    <tr>\n",
       "      <th>4</th>\n",
       "      <td>Two legends faced off at  Wimbledon in 2001. P...</td>\n",
       "    </tr>\n",
       "    <tr>\n",
       "      <th>...</th>\n",
       "      <td>...</td>\n",
       "    </tr>\n",
       "    <tr>\n",
       "      <th>95</th>\n",
       "      <td>Analysing ATP players' forehands a thread ✨\\...</td>\n",
       "    </tr>\n",
       "    <tr>\n",
       "      <th>96</th>\n",
       "      <td>Tennis icon 🤝 Pop music icon\\n\\nThrowback to...</td>\n",
       "    </tr>\n",
       "    <tr>\n",
       "      <th>97</th>\n",
       "      <td>Analysing ATP players' forehands a thread ✨\\...</td>\n",
       "    </tr>\n",
       "    <tr>\n",
       "      <th>98</th>\n",
       "      <td>Analysing ATP players' forehands a thread ✨\\...</td>\n",
       "    </tr>\n",
       "    <tr>\n",
       "      <th>99</th>\n",
       "      <td>73_2  if you miss ...</td>\n",
       "    </tr>\n",
       "  </tbody>\n",
       "</table>\n",
       "<p>100 rows × 1 columns</p>\n",
       "</div>"
      ],
      "text/plain": [
       "                                               Tweets\n",
       "0                            73_2  if you miss ...   \n",
       "1                            73_2  if you miss ...   \n",
       "2                  Pretty high, in exhibition matches\n",
       "3     Only a fool would write off the Maestro. \\n\\...\n",
       "4   Two legends faced off at  Wimbledon in 2001. P...\n",
       "..                                                ...\n",
       "95    Analysing ATP players' forehands a thread ✨\\...\n",
       "96    Tennis icon 🤝 Pop music icon\\n\\nThrowback to...\n",
       "97    Analysing ATP players' forehands a thread ✨\\...\n",
       "98    Analysing ATP players' forehands a thread ✨\\...\n",
       "99                           73_2  if you miss ...   \n",
       "\n",
       "[100 rows x 1 columns]"
      ]
     },
     "execution_count": 26,
     "metadata": {},
     "output_type": "execute_result"
    }
   ],
   "source": [
    "df"
   ]
  },
  {
   "cell_type": "code",
   "execution_count": 15,
   "metadata": {},
   "outputs": [],
   "source": [
    "import tensorflow as tf"
   ]
  },
  {
   "cell_type": "code",
   "execution_count": 16,
   "metadata": {},
   "outputs": [],
   "source": [
    "from tensorflow.keras.layers import Embedding\n",
    "from tensorflow.keras.preprocessing.sequence import pad_sequences\n",
    "from tensorflow.keras.preprocessing.text import one_hot"
   ]
  },
  {
   "cell_type": "markdown",
   "metadata": {},
   "source": [
    "## Pre-processing the tweets to fit our ML model"
   ]
  },
  {
   "cell_type": "code",
   "execution_count": 17,
   "metadata": {},
   "outputs": [],
   "source": [
    "import nltk\n",
    "import re\n",
    "from nltk.corpus import stopwords"
   ]
  },
  {
   "cell_type": "code",
   "execution_count": 18,
   "metadata": {},
   "outputs": [
    {
     "name": "stderr",
     "output_type": "stream",
     "text": [
      "[nltk_data] Downloading package stopwords to\n",
      "[nltk_data]     C:\\Users\\Babette\\AppData\\Roaming\\nltk_data...\n",
      "[nltk_data]   Package stopwords is already up-to-date!\n"
     ]
    },
    {
     "data": {
      "text/plain": [
       "True"
      ]
     },
     "execution_count": 18,
     "metadata": {},
     "output_type": "execute_result"
    }
   ],
   "source": [
    "#In order to remove words that are not meanningful (e.g. the, a, then, often...), we need to download those words.\n",
    "nltk.download(\"stopwords\")"
   ]
  },
  {
   "cell_type": "code",
   "execution_count": 38,
   "metadata": {},
   "outputs": [
    {
     "name": "stdout",
     "output_type": "stream",
     "text": [
      "0\n",
      "1\n",
      "2\n",
      "3\n",
      "4\n",
      "5\n",
      "6\n",
      "7\n",
      "8\n",
      "9\n",
      "10\n",
      "11\n",
      "12\n",
      "13\n",
      "14\n",
      "15\n",
      "16\n",
      "17\n",
      "18\n",
      "19\n",
      "20\n",
      "21\n",
      "22\n",
      "23\n",
      "24\n",
      "25\n",
      "26\n",
      "27\n",
      "28\n",
      "29\n",
      "30\n",
      "31\n",
      "32\n",
      "33\n",
      "34\n",
      "35\n",
      "36\n",
      "37\n",
      "38\n",
      "39\n",
      "40\n",
      "41\n",
      "42\n",
      "43\n",
      "44\n",
      "45\n",
      "46\n",
      "47\n",
      "48\n",
      "49\n",
      "50\n",
      "51\n",
      "52\n",
      "53\n",
      "54\n",
      "55\n",
      "56\n",
      "57\n",
      "58\n",
      "59\n",
      "60\n",
      "61\n",
      "62\n",
      "63\n",
      "64\n",
      "65\n",
      "66\n",
      "67\n",
      "68\n",
      "69\n",
      "70\n",
      "71\n",
      "72\n",
      "73\n",
      "74\n",
      "75\n",
      "76\n",
      "77\n",
      "78\n",
      "79\n",
      "80\n",
      "81\n",
      "82\n",
      "83\n",
      "84\n",
      "85\n",
      "86\n",
      "87\n",
      "88\n",
      "89\n",
      "90\n",
      "91\n",
      "92\n",
      "93\n",
      "94\n",
      "95\n",
      "96\n",
      "97\n",
      "98\n",
      "99\n"
     ]
    }
   ],
   "source": [
    "##Data Preprocessing/Cleaning\n",
    "from nltk.stem.porter import PorterStemmer\n",
    "#Initialise PorterStemmer for Stemming\n",
    "ps = PorterStemmer()\n",
    "#Create an empty list named corpus that will contain our cleaned sentences and words\n",
    "corpus = []\n",
    "#Create a loop to clean all the text in messages:\n",
    "for i in range(0, len(messages)):\n",
    "    #print index\n",
    "    print(i)\n",
    "    # Removing hyperlink\n",
    "    review = re.sub('https?:\\/\\/\\S+', '', messages[i])\n",
    "    #use re (regular expressions) to substitute all characters except [a-zA-Z] by blank in message 'text'\n",
    "    review = re.sub('[^a-zA-Z]', ' ', messages[i])\n",
    "    #convert all the characters as lower case\n",
    "    review = review.lower()\n",
    "    #split all the words in each sentence to be able to later remove the stopwords\n",
    "    review = review.split()\n",
    "    \n",
    "    #create a loop in review: for each word in review, keep only words that are not stopwords list and apply 'Stemming'\n",
    "    review = [ps.stem(word) for word in review if not word in stopwords.words('english')]\n",
    "    #join words with a space to build the review\n",
    "    review = ' '.join(review)\n",
    "    #append the review into the corpus\n",
    "    corpus.append(review)"
   ]
  },
  {
   "cell_type": "code",
   "execution_count": 39,
   "metadata": {},
   "outputs": [
    {
     "name": "stdout",
     "output_type": "stream",
     "text": [
      "rt camerlengo rt miss rogerfeder http co zwndtluqwq\n",
      "rt camerlengo rt miss rogerfeder http co zwndtluqwq\n",
      "tenni rogerfeder pretti high exhibit match\n",
      "rt tenni fool would write maestro rate rogerfeder chanc http co smnnzft id\n",
      "two legend face wimbledon pete sampra vs year old rogerfeder shock champ pete wimbledon titl roger tenni atptour http co sgjqg jnff\n"
     ]
    }
   ],
   "source": [
    "#Checking the new sentences in the corpus\n",
    "for i in range(0,5):\n",
    "    print(corpus[i])"
   ]
  },
  {
   "cell_type": "code",
   "execution_count": null,
   "metadata": {},
   "outputs": [],
   "source": []
  },
  {
   "cell_type": "code",
   "execution_count": null,
   "metadata": {},
   "outputs": [],
   "source": []
  }
 ],
 "metadata": {
  "kernelspec": {
   "display_name": "Python [conda env:PythonAdv]",
   "language": "python",
   "name": "conda-env-PythonAdv-py"
  },
  "language_info": {
   "codemirror_mode": {
    "name": "ipython",
    "version": 3
   },
   "file_extension": ".py",
   "mimetype": "text/x-python",
   "name": "python",
   "nbconvert_exporter": "python",
   "pygments_lexer": "ipython3",
   "version": "3.6.10"
  }
 },
 "nbformat": 4,
 "nbformat_minor": 4
}
